{
 "cells": [
  {
   "cell_type": "code",
   "execution_count": 3,
   "id": "ebcf0c3d-8de5-4bfc-9bca-b5f1b2c1ff74",
   "metadata": {},
   "outputs": [
    {
     "name": "stdin",
     "output_type": "stream",
     "text": [
      "Please enter your initial budget:  1000\n"
     ]
    },
    {
     "name": "stdout",
     "output_type": "stream",
     "text": [
      "What would you like to do?\n",
      "1. Add an expense\n",
      "2. Show budget details\n",
      "3. Exit\n"
     ]
    },
    {
     "name": "stdin",
     "output_type": "stream",
     "text": [
      "Enter your choice (1/2/3):  1\n",
      "Enter expense description:  grips\n",
      "Enter expense amount:  200\n"
     ]
    },
    {
     "name": "stdout",
     "output_type": "stream",
     "text": [
      "Added expense: grips Amount: 200\n",
      "What would you like to do?\n",
      "1. Add an expense\n",
      "2. Show budget details\n",
      "3. Exit\n"
     ]
    },
    {
     "name": "stdin",
     "output_type": "stream",
     "text": [
      "Enter your choice (1/2/3):  2\n"
     ]
    },
    {
     "name": "stdout",
     "output_type": "stream",
     "text": [
      "Total Budget: 1000\n",
      "Expense: grips : 200\n",
      "Total Spent: 200\n",
      "Remaining Budget: 800\n",
      "What would you like to do?\n",
      "1. Add an expense\n",
      "2. Show budget details\n",
      "3. Exit\n"
     ]
    },
    {
     "name": "stdin",
     "output_type": "stream",
     "text": [
      "Enter your choice (1/2/3):  3\n"
     ]
    },
    {
     "name": "stdout",
     "output_type": "stream",
     "text": [
      "Total Budget: 1000\n",
      "Expense: grips : 200\n",
      "Total Spent: 200\n",
      "Remaining Budget: 800\n",
      "Thank you for using the Budget App!\n"
     ]
    }
   ],
   "source": [
    "### print(\"Welcome to the Budget App\")\n",
    "\n",
    "input1 = int(input(\"Please enter your initial budget: \"))\n",
    "listadd = []\n",
    "totalamount = 0\n",
    "\n",
    "\n",
    "for j in range(0,5):\n",
    "    if input1 >= 100:\n",
    "        print(\"What would you like to do?\")\n",
    "        list1 = [\"1. Add an expense\", \"2. Show budget details\", \"3. Exit\"]\n",
    "        for i in list1:\n",
    "            print(i)\n",
    "        \n",
    "        input2 = input(\"Enter your choice (1/2/3): \")\n",
    "        \n",
    "        if input2 == \"1\":\n",
    "            input3 = input(\"Enter expense description: \")\n",
    "            amount = int(input(\"Enter expense amount: \"))\n",
    "            listadd.append((input3,amount))\n",
    "            totalamount += amount\n",
    "            print(\"Added expense:\", input3, \"Amount:\", amount)\n",
    "                \n",
    "        if input2 == \"2\":\n",
    "            print(\"Total Budget:\", input1)\n",
    "            \n",
    "            for disc, amt in listadd:\n",
    "                print(\"Expense:\", disc, \":\", amt)\n",
    "                print(\"Total Spent:\", totalamount)\n",
    "                print(\"Remaining Budget:\", input1 - totalamount)\n",
    "        \n",
    "        if input2 == \"3\":\n",
    "            print(\"Total Budget:\", input1)\n",
    "            for disc, amt in listadd:\n",
    "                print(\"Expense:\", disc, \":\", amt)\n",
    "            print(\"Total Spent:\", totalamount)\n",
    "            totalprice=input1-totalamount\n",
    "            print(\"Remaining Budget:\", totalprice)\n",
    "            print(\"Thank you for using the Budget App!\")\n",
    "            break\n",
    "        elif totalamount>input1:\n",
    "            print(\"Expense exceeds remaining budget. Try again.\")\n",
    "            break\n",
    "else:\n",
    "    print(\"Budget is too low to add expenses.\")\n",
    "        \n",
    "\n",
    "\n",
    "\n"
   ]
  },
  {
   "cell_type": "code",
   "execution_count": 1,
   "id": "95d3fbda-8b12-46a8-bb23-01207882f77d",
   "metadata": {},
   "outputs": [
    {
     "name": "stdin",
     "output_type": "stream",
     "text": [
      "Rock,Paper,Seisor?(r/p/s): r\n"
     ]
    },
    {
     "name": "stdout",
     "output_type": "stream",
     "text": [
      "your choise {'r'}\n",
      "computer choise {'s'}\n",
      "you win\n"
     ]
    },
    {
     "name": "stdin",
     "output_type": "stream",
     "text": [
      "you want to continou(y/n): y\n",
      "Rock,Paper,Seisor?(r/p/s): s\n"
     ]
    },
    {
     "name": "stdout",
     "output_type": "stream",
     "text": [
      "your choise {'s'}\n",
      "computer choise {'s'}\n",
      "Tie Match\n"
     ]
    },
    {
     "name": "stdin",
     "output_type": "stream",
     "text": [
      "you want to continou(y/n): n\n"
     ]
    },
    {
     "name": "stdout",
     "output_type": "stream",
     "text": [
      "Thanku for Playing\n"
     ]
    }
   ],
   "source": [
    "import random\n",
    "\n",
    "choises=(\"rps\")\n",
    "computer_choise=random.choice(choises)\n",
    "\n",
    "for i in range(0,5):\n",
    "    input1=input(\"Rock,Paper,Seisor?(r/p/s):\")\n",
    "    if input1 not in choises:\n",
    "        print(\"invalid\")\n",
    "        break\n",
    "    print('your choise',{input1})\n",
    "    print(\"computer choise\",{computer_choise})\n",
    "    if(input1==computer_choise):\n",
    "        print(\"Tie Match\")\n",
    "    elif(input1==\"r\" and computer_choise==\"s\"):\n",
    "        print(\"you win\")\n",
    "    elif(input1==\"s\" and computer_choise==\"p\"):\n",
    "        print(\"you win\")\n",
    "    elif(input1==\"r\" and computer_choise==\"p\"):\n",
    "        print(\"you win\")\n",
    "    else:\n",
    "        print(\"computer win\")\n",
    "    input2=input(\"you want to continou(y/n):\")\n",
    "    if(input2==\"y\"):\n",
    "        continue\n",
    "    elif(input2==\"n\"):\n",
    "        print(\"Thanku for Playing\")\n",
    "        break\n",
    "    else:\n",
    "        print(\"Lose the match\")\n",
    "        \n"
   ]
  },
  {
   "cell_type": "code",
   "execution_count": 51,
   "id": "f9918ae1-f2d0-4206-8af7-2844ef8098d8",
   "metadata": {},
   "outputs": [
    {
     "name": "stdin",
     "output_type": "stream",
     "text": [
      "enter the guess number 12\n"
     ]
    },
    {
     "name": "stdout",
     "output_type": "stream",
     "text": [
      "48\n",
      "to low\n"
     ]
    },
    {
     "name": "stdin",
     "output_type": "stream",
     "text": [
      "enter the guess number 48\n"
     ]
    },
    {
     "name": "stdout",
     "output_type": "stream",
     "text": [
      "48\n",
      "you win!\n"
     ]
    }
   ],
   "source": [
    "import random\n",
    "\n",
    "random_genrater=random.randint(1,100)\n",
    "\n",
    "\n",
    "winning=[8,34,56,12,45]\n",
    "\n",
    "while True:\n",
    "    guess=int(input(\"enter the guess number\"))\n",
    "    print(random_genrater)\n",
    "    if guess<random_genrater:\n",
    "        print(\"to low\")\n",
    "    elif guess>random_genrater:\n",
    "        print(\"too high\")\n",
    "    else:\n",
    "        print(\"you win!\")\n",
    "        break\n",
    "        \n"
   ]
  },
  {
   "cell_type": "code",
   "execution_count": null,
   "id": "7d76b566-6db0-412d-a42e-74188bc9acad",
   "metadata": {},
   "outputs": [],
   "source": [
    "question=(\"Q-1 what is smallest prime number\")\n",
    "list1=[\"A=1\",\"B=2\",\"c=3\",\"D=5\"]\n",
    "correct_Ans=0\n",
    "incorect_Ans=0\n",
    "\n",
    "B=(\"2\")\n",
    "\n",
    "Ans=(\"B\")\n",
    "print(question)\n",
    "for j in list1:\n",
    "    print(j)\n",
    "for i in range(0,1):\n",
    "        no = input(\"Write the answer (A, B, C, or D): \")\n",
    "        if (no==Ans):\n",
    "            print(\"yes!,this is correct Ans\")    \n",
    "            correct_Ans+=1\n",
    "        else:\n",
    "            print(\"no this is not correct Ans is\",Ans)\n",
    "            incorect_Ans+=1\n",
    "        if (no==Ans or no!=Ans):  \n",
    "            question2=(\"Q-2 Which country drinks the most coffee per capital\")\n",
    "            print(question2)\n",
    "            list2=[\"A=Finland\",\"B=India\",\"C=America\",\"D=china\"]\n",
    "            Ans2=(\"A\")\n",
    "            for k in list2:\n",
    "                print(k)\n",
    "            input2=input(\"Write the answer (A, B, C, or D): \")\n",
    "            if input2==Ans2:\n",
    "                print(\"yes!,this is correct Ans\")\n",
    "                correct_Ans+=1\n",
    "            else:\n",
    "                print(\"no this is not correct Ans\")\n",
    "                incorect_Ans+=1\n",
    "        if(input2==Ans2 or input2!=Ans2):\n",
    "            question3=(\"Q-3 Where did sushi originate\")\n",
    "            print(question3)\n",
    "            list3=[\"A=China\",\"B-france\",\"C-Japan\",\"D-india\"]\n",
    "            Ans3=(\"C\")\n",
    "            for l in list3:\n",
    "                print(l)\n",
    "            input3=input(\"Write the answer (A, B, C, or D): \")\n",
    "            if (input3==Ans3):\n",
    "                print(\"yes!,this is correct Ans\")\n",
    "                correct_Ans+=1\n",
    "            else:\n",
    "                print(\"no this is not correct Ans\")\n",
    "                incorect_Ans+=1\n",
    "\n",
    "print(\"correct ans is\",correct_Ans)\n",
    "print(\"incorrect ans is \",incorect_Ans)\n",
    "\n",
    "\n"
   ]
  },
  {
   "cell_type": "code",
   "execution_count": null,
   "id": "cd4267fe-edc5-4afd-a091-3a139612b0d3",
   "metadata": {},
   "outputs": [],
   "source": [
    "\n",
    "import random\n",
    "list1=2\n",
    "\n",
    "for i in range(0,10):\n",
    "    roll=input(\"Roll the Disc (Y/N)\")\n",
    "    if roll==\"y\":\n",
    "        list2=random.sample(range(1,6),list1)\n",
    "        print(list2)\n",
    "    elif roll==\"n\":\n",
    "        print(\"thnaku for playing\")\n",
    "        break\n",
    "    elif(roll!=\"y\" or roll!=\"no\"):\n",
    "        print(\"invalid choise\")\n",
    "    \n",
    "    "
   ]
  },
  {
   "cell_type": "code",
   "execution_count": 3,
   "id": "bb40afa0-0011-48b6-98df-803928e03b01",
   "metadata": {},
   "outputs": [
    {
     "name": "stdin",
     "output_type": "stream",
     "text": [
      "Enter the Name ishav\n",
      "Enter the Account Number 123456789012\n",
      "Enter the Mobile Number  7340023113\n",
      "Enter the IFScode 123er5rw\n"
     ]
    },
    {
     "name": "stdout",
     "output_type": "stream",
     "text": [
      "{'Holder-Name': 'ishav', 'Account-Number': '123456789012', 'Mobile-Number': '7340023113', 'IFS-code': '123er5rw'}\n",
      "\n",
      "💼 Bank Operations\n",
      "1️⃣  Deposit\n",
      "2️⃣  withdrawal\n",
      "3️⃣  Check Balance\n",
      "4️⃣  Exit\n"
     ]
    },
    {
     "name": "stdin",
     "output_type": "stream",
     "text": [
      "Enter your choice:  1\n",
      "Enter the amount for Deposit 120\n"
     ]
    },
    {
     "name": "stdout",
     "output_type": "stream",
     "text": [
      "✅ ₹120 deposited successfully. Total Balance: ₹120\n",
      "\n",
      "💼 Bank Operations\n",
      "1️⃣  Deposit\n",
      "2️⃣  withdrawal\n",
      "3️⃣  Check Balance\n",
      "4️⃣  Exit\n"
     ]
    },
    {
     "name": "stdin",
     "output_type": "stream",
     "text": [
      "Enter your choice:  4\n"
     ]
    },
    {
     "name": "stdout",
     "output_type": "stream",
     "text": [
      "👋 Exiting. Thank you!\n"
     ]
    }
   ],
   "source": [
    "import qrcode\n",
    "#  Bank Account Management System\n",
    "def CreateAccount():\n",
    "    holderName=input(\"Enter the Name\")\n",
    "    AccountNumber=input(\"Enter the Account Number\")\n",
    "    if(not AccountNumber.isdigit()):\n",
    "         print(\"❌ Please enter a valid account number (digits only).\")\n",
    "    if(len(AccountNumber)!=12):\n",
    "        print(\"❌ Please enter a valid account number should be 12 digit.\")\n",
    "    else:\n",
    "        MobileNumber=input(\"Enter the Mobile Number \")\n",
    "        if(not MobileNumber.isdigit()):\n",
    "            print(\"❌ Please enter a valid account number (digits only).\")\n",
    "        else:\n",
    "            IFScode=input(\"Enter the IFScode\")\n",
    "            HolderDetails={\"Holder-Name\":holderName,\"Account-Number\":AccountNumber,\"Mobile-Number\":MobileNumber,\"IFS-code\":IFScode}\n",
    "            print(HolderDetails)   \n",
    "            \n",
    "def BankAccount():\n",
    "    def Deposit__withdrawal_Currentbalance():\n",
    "        Money=0\n",
    "        while True:\n",
    "            print(\"\\n💼 Bank Operations\")\n",
    "            print(\"1️⃣  Deposit\")\n",
    "            print(\"2️⃣  withdrawal\")\n",
    "            print(\"3️⃣  Check Balance\")\n",
    "            print(\"4️⃣  Exit\")\n",
    "            choice = input(\"Enter your choice: \")\n",
    "            if(choice==\"1\"):\n",
    "                try:\n",
    "                    amount=int(input(\"Enter the amount for Deposit\"))\n",
    "                    if(amount>0):\n",
    "                        Money+=amount\n",
    "                        print(f\"✅ ₹{amount} deposited successfully. Total Balance: ₹{Money}\")\n",
    "                    else:\n",
    "                        print(\"❌ Invalid choice. Please select a valid option.\")\n",
    "                except ValueError:\n",
    "                    print(\"❌ Invalid input. Please enter a number.\")\n",
    "            elif(choice == \"2\"):\n",
    "                try:\n",
    "                    amount=int(input(\"Enter the withdrawal money\"))\n",
    "                    if(amount>0):\n",
    "                        Money-=amount\n",
    "                        print(f\"✅ ₹{amount} withdrawal successfully. Total Balance: ₹{Money}\")\n",
    "                    else:\n",
    "                         print(\"❌ Invalid choice. Please select a valid option.\")\n",
    "                except ValueError:\n",
    "                    print(\"❌ Invalid input. Please enter a number.\")\n",
    "            elif(choice==\"3\"):\n",
    "                print(f\"💰 Current Balance: ₹{Money}\")\n",
    "            elif(choice==\"4\"):\n",
    "                 print(\"👋 Exiting. Thank you!\")\n",
    "                 qrcodeprice=qrcode.make(Money)\n",
    "                 qrcodeprice.show(qrcodeprice)\n",
    "                 break\n",
    "            else:\n",
    "                print(\"❌ Invalid choice. Please select a valid option.\")\n",
    "            \n",
    "    Deposit__withdrawal_Currentbalance()\n",
    "\n",
    "\n",
    "CreateAccount()\n",
    "BankAccount()\n",
    "            \n",
    "\n",
    "        "
   ]
  },
  {
   "cell_type": "code",
   "execution_count": 1,
   "id": "416d8bcf-c0ee-4a85-a2d5-af4033c9822e",
   "metadata": {},
   "outputs": [],
   "source": [
    "import pandas as pd"
   ]
  },
  {
   "cell_type": "code",
   "execution_count": 42,
   "id": "58624b3c-9ac5-4a46-a528-b70b34256cf8",
   "metadata": {},
   "outputs": [
    {
     "name": "stdout",
     "output_type": "stream",
     "text": [
      "                    Dish_Name  Price\n",
      "0          PaneerButterMasala    260\n",
      "1             Chicken Biryani    280\n",
      "2                 Masala Dosa    120\n",
      "3               Chole Bhature    130\n",
      "4                Rajma Chawal    150\n",
      "5                 Dal Makhani    180\n",
      "6     Butter Naan (per piece)     35\n",
      "7   Tandoori Roti (per piece)     25\n",
      "8                   Veg Pulao    160\n",
      "9                  Jeera Rice    140\n",
      "10               Aloo Paratha     80\n",
      "11         Samosa (per piece)     20\n",
      "12        Kachori (per piece)     25\n",
      "13                  Pav Bhaji    100\n",
      "14                     Dhokla     90\n",
      "15               Idli Sambhar    100\n",
      "16                   Vada Pav     50\n",
      "17                       Poha     60\n",
      "18                       Upma     70\n",
      "19                  Egg Curry    200\n",
      "20          Mutton Rogan Josh    350\n",
      "21                 Fish Curry    300\n",
      "22               Palak Paneer    220\n",
      "23             Baingan Bharta    180\n",
      "24      Mixed Vegetable Curry    160\n",
      "25            Gobi Manchurian    150\n",
      "26                 Chicken 65    220\n",
      "27        Rasgulla (2 pieces)     60\n",
      "28     Gulab Jamun (2 pieces)     60\n",
      "29         Jalebi (100 grams)     50\n"
     ]
    },
    {
     "name": "stdin",
     "output_type": "stream",
     "text": [
      "Enter the dish name:  gobi manchurian\n",
      "Enter the dish name:  poha\n"
     ]
    },
    {
     "name": "stdout",
     "output_type": "stream",
     "text": [
      "\n",
      "🧾 Your First Order:\n",
      "['gobi manchurian - ₹150', 'poha - ₹60']\n",
      "THis is your total,210\n",
      "You Want to change anything\n"
     ]
    },
    {
     "name": "stdin",
     "output_type": "stream",
     "text": [
      "Yes/No yes\n",
      "Enter the Dish Name idli sambhar\n",
      "Enter the Dish Name fish curry\n",
      "Enter the Dish Name palak paneer\n",
      "Enter the Dish Name mutton\n"
     ]
    },
    {
     "name": "stdout",
     "output_type": "stream",
     "text": [
      "This dish is not availabel\n",
      "This is your first order: gobi manchurian - ₹150 , poha - ₹60\n",
      "This is your second order: idli sambhar - 100 , fish curry - 300 , palak paneer - 220\n",
      "This is your Grand total-830\n"
     ]
    }
   ],
   "source": [
    "class MenuShow:\n",
    "    def __init__(self):\n",
    "        self.Menudata=pd.read_csv(r\"D:\\Downloads\\Indian_Food_Menu_Jaipur_April_2025.csv\")\n",
    "        self.Menudata.columns=self.Menudata.columns.str.strip()\n",
    "        print(self.Menudata)\n",
    "        self.input1=[]\n",
    "        for i in range(2):\n",
    "            dish_name = input(\"Enter the dish name: \").strip()\n",
    "            self.input1.append(dish_name)\n",
    "    def Menuinput(self):\n",
    "        total=0\n",
    "        total2=0\n",
    "        menu=[]\n",
    "        prices=[]\n",
    "        prices2=[]\n",
    "        menu2=[]\n",
    "        for i in self.input1:\n",
    "            self.dishName=self.Menudata[self.Menudata[\"Dish_Name\"].str.lower()==str(i).lower()]\n",
    "            try:\n",
    "                if(i not   in self.dishName[\"Dish_Name\"].values):\n",
    "                    price=self.dishName[\"Price\"].values[0]\n",
    "                    total+=price\n",
    "                    menu.append(i)\n",
    "                    prices.append(price)\n",
    "            except IndexError:\n",
    "                print(\"This is Index Error \\n\")\n",
    "                break\n",
    "        first_order = [f\"{m} - ₹{p}\" for m, p in zip(menu, prices)]\n",
    "        if(first_order):\n",
    "            print(\"\\n🧾 Your First Order:\")\n",
    "            print(first_order)\n",
    "        else:\n",
    "            print(\"This dish is not avilabel\")\n",
    "        print(f\"THis is your total,{total}\")\n",
    "        print(\"You Want to change anything\")\n",
    "        change = input(\"Yes/No\").strip()\n",
    "        while True:\n",
    "            if (change.lower() == \"yes\"):\n",
    "                try:\n",
    "                    nextdishName=input(\"Enter the Dish Name\")\n",
    "                    self.dishName2=self.Menudata[self.Menudata[\"Dish_Name\"].str.lower()==nextdishName.lower()]\n",
    "                    if(nextdishName not in self.dishName2[\"Dish_Name\"].values):\n",
    "                        menu2.append(nextdishName)\n",
    "                        prices=self.dishName2[\"Price\"].values[0]\n",
    "                        prices2.append(prices)\n",
    "                        total2+=prices\n",
    "                except   IndexError :\n",
    "                    print(\"This dish is not availabel\")\n",
    "                    break\n",
    "            else:\n",
    "                print(\"Enter the Write choise\")\n",
    "                break\n",
    "        new_order=[f\"{item_menu} - {item_price}\" for item_menu,item_price in zip(menu2,prices2)] \n",
    "        \n",
    "        print(\"This is your first order:\", \" , \".join(first_order))\n",
    "        print(\"This is your second order:\", \" , \".join(new_order))\n",
    "        grand_total=(total+total2)\n",
    "        print(f\"This is your Grand total-{grand_total}\")\n",
    "        \n",
    "obj=MenuShow()\n",
    "obj.Menuinput()"
   ]
  },
  {
   "cell_type": "code",
   "execution_count": 32,
   "id": "5a0d26eb-97a0-4f0e-9462-b3d36c216871",
   "metadata": {},
   "outputs": [
    {
     "name": "stdout",
     "output_type": "stream",
     "text": [
      "48.6\n"
     ]
    }
   ],
   "source": [
    "list1=[23,45,64,78,33]\n",
    "\n",
    "count=0\n",
    "\n",
    "for i in list1:\n",
    "    count+=i\n",
    "print(count/5)"
   ]
  },
  {
   "cell_type": "code",
   "execution_count": 34,
   "id": "b9c28512-5c79-4b2d-b575-6498c989cfbc",
   "metadata": {},
   "outputs": [
    {
     "name": "stdout",
     "output_type": "stream",
     "text": [
      "[[1 2 3 4]\n",
      " [3 4 5 6]]\n"
     ]
    }
   ],
   "source": [
    "import numpy as np\n",
    "\n",
    "array_2d = np.array([[1, 2, 3, 4], [3, 4, 5, 6]])\n",
    "print(array_2d)"
   ]
  },
  {
   "cell_type": "code",
   "execution_count": 50,
   "id": "65b7bb0b-2247-4a6b-ab3f-8ca7d603568f",
   "metadata": {},
   "outputs": [
    {
     "name": "stdin",
     "output_type": "stream",
     "text": [
      "Enter the name ishav\n",
      "enter the age 12\n"
     ]
    },
    {
     "name": "stdout",
     "output_type": "stream",
     "text": [
      "[['ishav']]\n",
      "[[12]]\n"
     ]
    },
    {
     "ename": "NameError",
     "evalue": "name 'Bank_detail' is not defined",
     "output_type": "error",
     "traceback": [
      "\u001b[1;31m---------------------------------------------------------------------------\u001b[0m",
      "\u001b[1;31mNameError\u001b[0m                                 Traceback (most recent call last)",
      "Cell \u001b[1;32mIn[50], line 10\u001b[0m\n\u001b[0;32m      8\u001b[0m     \u001b[38;5;28mprint\u001b[39m(list_name)\n\u001b[0;32m      9\u001b[0m     \u001b[38;5;28mprint\u001b[39m(list_account_number)\n\u001b[1;32m---> 10\u001b[0m obj\u001b[38;5;241m=\u001b[39mBank_detail()\n\u001b[0;32m     11\u001b[0m obj\n",
      "\u001b[1;31mNameError\u001b[0m: name 'Bank_detail' is not defined"
     ]
    }
   ],
   "source": [
    "# class _Bank_detail:\n",
    "#     Name=input(\"Enter the name\").split()\n",
    "#     Account_number=list(map(int,input(\"enter the age\").split()))\n",
    "#     list_name=[]\n",
    "#     list_account_number=[]\n",
    "#     list_name.append(Name)\n",
    "#     list_account_number.append(Account_number)\n",
    "#     print(list_name)\n",
    "#     print(list_account_number)\n",
    "# obj=Bank_detail()\n",
    "obj"
   ]
  },
  {
   "cell_type": "code",
   "execution_count": null,
   "id": "5a8d09df-1fb2-4ee0-a969-484863882369",
   "metadata": {},
   "outputs": [],
   "source": [
    "stock_price="
   ]
  }
 ],
 "metadata": {
  "kernelspec": {
   "display_name": "Python [conda env:base] *",
   "language": "python",
   "name": "conda-base-py"
  },
  "language_info": {
   "codemirror_mode": {
    "name": "ipython",
    "version": 3
   },
   "file_extension": ".py",
   "mimetype": "text/x-python",
   "name": "python",
   "nbconvert_exporter": "python",
   "pygments_lexer": "ipython3",
   "version": "3.12.7"
  }
 },
 "nbformat": 4,
 "nbformat_minor": 5
}
